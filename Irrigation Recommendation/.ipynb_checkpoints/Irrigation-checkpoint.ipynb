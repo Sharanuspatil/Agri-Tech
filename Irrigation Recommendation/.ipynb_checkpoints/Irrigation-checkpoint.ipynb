{
 "cells": [
  {
   "cell_type": "code",
   "execution_count": 1,
   "metadata": {},
   "outputs": [],
   "source": [
    "\n",
    "import numpy as np\n",
    "from sklearn import preprocessing,neighbors\n",
    "import pandas as pd\n",
    "\n",
    "from sklearn.model_selection import cross_val_score"
   ]
  },
  {
   "cell_type": "code",
   "execution_count": 2,
   "metadata": {},
   "outputs": [
    {
     "name": "stdout",
     "output_type": "stream",
     "text": [
      "   CropType  cropDays  soilMoisture  temp  humidity  y\n",
      "0         2         3           189    24        50  0\n",
      "1         2         5           345    21        55  0\n",
      "2         2         7           653    20        54  1\n",
      "3         2         9           198    21        52  0\n",
      "4         2        11           340    24        48  0\n"
     ]
    }
   ],
   "source": [
    "\n",
    "path ='Dataset\\datasets.csv'\n",
    "data=pd.read_csv(path)\n",
    "data.replace('?',-99999,inplace=True)\n",
    "data.columns=['CropType','cropDays','soilMoisture','temp','humidity','y']\n",
    "print(data.head())\n",
    "\n"
   ]
  },
  {
   "cell_type": "code",
   "execution_count": 3,
   "metadata": {},
   "outputs": [
    {
     "name": "stdout",
     "output_type": "stream",
     "text": [
      "0.85\n"
     ]
    }
   ],
   "source": [
    "x=np.array(data.drop(['y'],1))\n",
    "y=np.array(data['y'])\n",
    "from sklearn.model_selection import train_test_split\n",
    "x_train,x_test,y_train,y_test=train_test_split(x,y,test_size=0.2)\n",
    "cls=neighbors.KNeighborsClassifier()\n",
    "cls.fit(x_train,y_train)\n",
    "accuracy=cls.score(x_test,y_test)\n",
    "print(accuracy)"
   ]
  },
  {
   "cell_type": "code",
   "execution_count": 26,
   "metadata": {},
   "outputs": [
    {
     "name": "stdout",
     "output_type": "stream",
     "text": [
      "Irrigation is required\n"
     ]
    }
   ],
   "source": [
    "\n",
    "prediction =cls.predict([[2,32,700,32,32]])\n",
    "if(prediction==1):\n",
    "    print(\"Irrigation is required\")\n",
    "else:\n",
    "    print(\"Irrigation is not required\")"
   ]
  },
  {
   "cell_type": "code",
   "execution_count": 21,
   "metadata": {},
   "outputs": [],
   "source": [
    "\n",
    "import pickle\n",
    "pickle.dump(cls, open('model.pkl','wb'))"
   ]
  },
  {
   "cell_type": "code",
   "execution_count": 24,
   "metadata": {},
   "outputs": [
    {
     "name": "stdout",
     "output_type": "stream",
     "text": [
      "Irrigation is required\n"
     ]
    }
   ],
   "source": [
    "\n",
    "model = pickle.load(open('model.pkl','rb'))\n",
    "prediction=model.predict([[2,32,700,32,32]])\n",
    "if(prediction==1):\n",
    "    print(\"Irrigation is required\")\n",
    "else:\n",
    "    print(\"Irrigation is not required\")"
   ]
  },
  {
   "cell_type": "code",
   "execution_count": null,
   "metadata": {},
   "outputs": [],
   "source": []
  }
 ],
 "metadata": {
  "kernelspec": {
   "display_name": "Python 3",
   "language": "python",
   "name": "python3"
  },
  "language_info": {
   "codemirror_mode": {
    "name": "ipython",
    "version": 3
   },
   "file_extension": ".py",
   "mimetype": "text/x-python",
   "name": "python",
   "nbconvert_exporter": "python",
   "pygments_lexer": "ipython3",
   "version": "3.8.5"
  }
 },
 "nbformat": 4,
 "nbformat_minor": 4
}
